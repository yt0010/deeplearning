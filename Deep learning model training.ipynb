{
 "cells": [
  {
   "cell_type": "markdown",
   "id": "02dd7e75",
   "metadata": {},
   "source": [
    "### 支持的模型名称\n",
    "\n",
    "模型名称替换代码中的 `model_name`变量的值。\n",
    "\n",
    "| **模型系列** | **模型名称**                                                 |\n",
    "| ------------ | ------------------------------------------------------------ |\n",
    "| AlexNet      | alexnet                                                      |\n",
    "| VGG          | vgg11, vgg11_bn, vgg13, vgg13_bn, vgg16, vgg16_bn, vgg19_bn, vgg19 |\n",
    "| ResNet       | resnet18, resnet34, resnet50, resnet101, resnet152, resnext50_32x4d, resnext101_32x8d, wide_resnet50_2, wide_resnet101_2 |\n",
    "| DenseNet     | densenet121, densenet169, densenet201, densenet161           |\n",
    "| Inception    | googlenet, inception_v3                                      |\n",
    "| SqueezeNet   | squeezenet1_0, squeezenet1_1                                 |\n",
    "| ShuffleNetV2 | shufflenet_v2_x2_0, shufflenet_v2_x0_5, shufflenet_v2_x1_0, shufflenet_v2_x1_5 |\n",
    "| MobileNet    | mobilenet_v2, mobilenet_v3_large, mobilenet_v3_small         |\n",
    "| MNASNet      | mnasnet0_5, mnasnet0_75, mnasnet1_0, mnasnet1_3              |\n",
    "| ViT       | ViT, SimpleViT|\n",
    "\n",
    "![](http://medai.icu/storage/attachments/2023/10/10/RHd9eH5U67VsOP8vqyNyBD5nGYREejkAKx3Jw16X.)"
   ]
  },
  {
   "cell_type": "code",
   "execution_count": null,
   "id": "764233d3",
   "metadata": {},
   "outputs": [],
   "source": [
    "import os\n",
    "from onekey_algo.classification.run_classification import main as clf_main\n",
    "from collections import namedtuple\n",
    "\n",
    "# 设置参数\n",
    "save_dir = r\"\"\n",
    "train_f = os.path.join(save_dir, 'train.txt')\n",
    "val_f = os.path.join(save_dir, 'val.txt')\n",
    "labels_f = os.path.join(save_dir, 'labels.txt')\n",
    "data_pattern = os.path.join(save_dir, 'roimax')\n",
    "\n",
    "# 定义要尝试的模型名称列表\n",
    "model_names_to_try = []\n",
    "\n",
    "# 循环尝试不同的模型名称\n",
    "for model_name in model_names_to_try:\n",
    "    params = dict(\n",
    "        train=train_f,\n",
    "        valid=val_f,\n",
    "        labels_file=labels_f,\n",
    "        data_pattern=data_pattern,\n",
    "        j=,\n",
    "        max2use=None,\n",
    "        val_max2use=None,\n",
    "        batch_balance=False,\n",
    "        normalize_method='imagenet',\n",
    "        model_name=model_name,  # 设置不同的模型名称\n",
    "        vit_settings={'patch_size': , 'dim': , 'depth': , 'heads': , 'mlp_dim': },\n",
    "        gpus=[],\n",
    "        batch_size=,\n",
    "        epochs=,\n",
    "        init_lr=,\n",
    "        optimizer='sgd',\n",
    "        retrain=None,\n",
    "        model_root='.',\n",
    "        add_date=False,\n",
    "        iters_start=0,\n",
    "        iters_verbose=1,\n",
    "        save_per_epoch=False,\n",
    "        pretrained=True\n",
    "    )\n",
    "\n",
    "    # 训练模型\n",
    "    Args = namedtuple(\"Args\", params.keys())\n",
    "    clf_main(Args(**params))\n"
   ]
  },
  {
   "cell_type": "code",
   "execution_count": null,
   "id": "ce1f8dc1",
   "metadata": {},
   "outputs": [],
   "source": []
  }
 ],
 "metadata": {
  "kernelspec": {
   "display_name": "Python 3 (ipykernel)",
   "language": "python",
   "name": "python3"
  },
  "language_info": {
   "codemirror_mode": {
    "name": "ipython",
    "version": 3
   },
   "file_extension": ".py",
   "mimetype": "text/x-python",
   "name": "python",
   "nbconvert_exporter": "python",
   "pygments_lexer": "ipython3",
   "version": "3.7.12"
  }
 },
 "nbformat": 4,
 "nbformat_minor": 5
}
